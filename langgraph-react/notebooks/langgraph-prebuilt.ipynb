{
 "cells": [
  {
   "cell_type": "markdown",
   "metadata": {},
   "source": [
    "# Langgraph Prebuilt\n",
    "\n",
    "This noteboook contains the code to run langgraph agent with prebuilt architectures, we look into the React Agents\n"
   ]
  },
  {
   "cell_type": "code",
   "execution_count": 19,
   "metadata": {},
   "outputs": [
    {
     "name": "stdout",
     "output_type": "stream",
     "text": [
      "The dotenv extension is already loaded. To reload it, use:\n",
      "  %reload_ext dotenv\n"
     ]
    }
   ],
   "source": [
    "# Load the environment variables\n",
    "%load_ext dotenv\n",
    "%dotenv"
   ]
  },
  {
   "cell_type": "code",
   "execution_count": 20,
   "metadata": {},
   "outputs": [],
   "source": [
    "# Tools used by the agent\n",
    "from langchain_core.tools import tool\n",
    "\n",
    "\n",
    "@tool\n",
    "def get_weather(city: str) -> str:\n",
    "    \"\"\"Get weather for a given city.\"\"\"\n",
    "    return f\"It's always sunny in {city}!\""
   ]
  },
  {
   "cell_type": "code",
   "execution_count": 21,
   "metadata": {},
   "outputs": [],
   "source": [
    "from langgraph.errors import GraphRecursionError\n",
    "from langgraph.prebuilt import create_react_agent\n",
    "from pydantic import BaseModel\n",
    "\n",
    "\n",
    "class WeatherResponse(BaseModel):\n",
    "    \"\"\"The response from the weather agent.\"\"\"\n",
    "\n",
    "    conditions: str\n",
    "\n",
    "\n",
    "# Create the agent using the reasoning action agent design\n",
    "agent = create_react_agent(\n",
    "    model=\"openai:gpt-4o\",\n",
    "    tools=[get_weather],\n",
    "    response_format=WeatherResponse,\n",
    "    prompt=\"You are a helpful assistant\",\n",
    ")\n",
    "\n",
    "# Set recursion limits to avoid infinite loop\n",
    "max_iterations = 3\n",
    "recursion_limit = 2 * max_iterations + 1\n",
    "agent_with_recursion_limit = agent.with_config(recursion_limit=recursion_limit)"
   ]
  },
  {
   "cell_type": "code",
   "execution_count": 22,
   "metadata": {},
   "outputs": [
    {
     "name": "stderr",
     "output_type": "stream",
     "text": [
      "INFO:httpx:HTTP Request: POST https://api.openai.com/v1/chat/completions \"HTTP/1.1 200 OK\"\n",
      "INFO:httpx:HTTP Request: POST https://api.openai.com/v1/chat/completions \"HTTP/1.1 200 OK\"\n",
      "INFO:httpx:HTTP Request: POST https://api.openai.com/v1/chat/completions \"HTTP/1.1 200 OK\"\n"
     ]
    },
    {
     "data": {
      "text/plain": [
       "WeatherResponse(conditions=\"As of the latest update, San Francisco is experiencing mild and pleasant weather with clear skies and an abundance of sunshine. Here's a detailed overview:\\n\\n- **Temperature:** The day temperature hovers around a comfortable range, making it ideal for outdoor activities. Expect daytime highs around 68-72°F (20-22°C) and cooler evenings around 55-59°F (13-15°C).\\n  \\n- **Sky Conditions:** The sky is primarily clear with minimal cloud cover, allowing for bright and sunny conditions throughout the day.\\n  \\n- **Wind:** A gentle breeze coming from the west at around 5-10 mph, providing a refreshing sensation without being too chilly.\\n\\n- **Humidity:** Mildly humid, maintaining a comfortable level for most people, given the wind and temperature balance.\\n\\nWhether you're planning to explore the city's iconic landmarks, stroll along the beach, or visit the vibrant neighborhoods, it's the perfect day to be out and about in San Francisco!\\n\\n**Note**: Always check for updates closer to your planned activities, as weather conditions can change frequently. Enjoy your time in the Bay Area! 🌞🌆**\\n\")"
      ]
     },
     "execution_count": 22,
     "metadata": {},
     "output_type": "execute_result"
    }
   ],
   "source": [
    "import logging\n",
    "\n",
    "logger = logging.getLogger(\"langgraph\")\n",
    "logger.setLevel(logging.DEBUG)\n",
    "\n",
    "# Run the agent\n",
    "try:\n",
    "    # The response returned will be the final output of the agent\n",
    "    response = agent_with_recursion_limit.invoke(\n",
    "        {\"messages\": [{\"role\": \"user\", \"content\": \"what is the weather in sf\"}]}\n",
    "    )\n",
    "except GraphRecursionError:\n",
    "    logger.error(\"Agent stopped due to max iterations.\")\n",
    "\n",
    "# This is how langgraph returns the structured output\n",
    "response[\"structured_response\"]"
   ]
  },
  {
   "cell_type": "code",
   "execution_count": 24,
   "metadata": {},
   "outputs": [
    {
     "name": "stderr",
     "output_type": "stream",
     "text": [
      "INFO:httpx:HTTP Request: POST https://api.openai.com/v1/chat/completions \"HTTP/1.1 200 OK\"\n",
      "INFO:langgraph:{'agent': {'messages': [AIMessage(content='', additional_kwargs={'tool_calls': [{'id': 'call_iOjakeKLgi7oaCwgNJLowu3y', 'function': {'arguments': '{\"city\":\"San Francisco\"}', 'name': 'get_weather'}, 'type': 'function'}], 'refusal': None}, response_metadata={'token_usage': {'completion_tokens': 16, 'prompt_tokens': 56, 'total_tokens': 72, 'completion_tokens_details': {'accepted_prediction_tokens': 0, 'audio_tokens': 0, 'reasoning_tokens': 0, 'rejected_prediction_tokens': 0}, 'prompt_tokens_details': {'audio_tokens': 0, 'cached_tokens': 0}}, 'model_name': 'gpt-4o-2024-08-06', 'system_fingerprint': 'fp_f5bdcc3276', 'id': 'chatcmpl-BWChGxu4mP3P20iFhWLCRFDG88nNw', 'service_tier': 'default', 'finish_reason': 'tool_calls', 'logprobs': None}, id='run--d42b6ee0-1059-4f55-ba26-367e047afd72-0', tool_calls=[{'name': 'get_weather', 'args': {'city': 'San Francisco'}, 'id': 'call_iOjakeKLgi7oaCwgNJLowu3y', 'type': 'tool_call'}], usage_metadata={'input_tokens': 56, 'output_tokens': 16, 'total_tokens': 72, 'input_token_details': {'audio': 0, 'cache_read': 0}, 'output_token_details': {'audio': 0, 'reasoning': 0}})]}}\n",
      "INFO:langgraph:{'tools': {'messages': [ToolMessage(content=\"It's always sunny in San Francisco!\", name='get_weather', id='908c04b8-91da-4897-8dae-7b219d90bb55', tool_call_id='call_iOjakeKLgi7oaCwgNJLowu3y')]}}\n",
      "INFO:httpx:HTTP Request: POST https://api.openai.com/v1/chat/completions \"HTTP/1.1 200 OK\"\n",
      "INFO:langgraph:{'agent': {'messages': [AIMessage(content='It seems like San Francisco is experiencing sunny weather! If you have any specific questions or need further details, feel free to ask.', additional_kwargs={'refusal': None}, response_metadata={'token_usage': {'completion_tokens': 28, 'prompt_tokens': 86, 'total_tokens': 114, 'completion_tokens_details': {'accepted_prediction_tokens': 0, 'audio_tokens': 0, 'reasoning_tokens': 0, 'rejected_prediction_tokens': 0}, 'prompt_tokens_details': {'audio_tokens': 0, 'cached_tokens': 0}}, 'model_name': 'gpt-4o-2024-08-06', 'system_fingerprint': 'fp_f5bdcc3276', 'id': 'chatcmpl-BWChGRtzOnyf72DxdQ2MRuoXfK4hP', 'service_tier': 'default', 'finish_reason': 'stop', 'logprobs': None}, id='run--e75bb007-6685-4c12-b870-3e88e2952eaf-0', usage_metadata={'input_tokens': 86, 'output_tokens': 28, 'total_tokens': 114, 'input_token_details': {'audio': 0, 'cache_read': 0}, 'output_token_details': {'audio': 0, 'reasoning': 0}})]}}\n",
      "INFO:httpx:HTTP Request: POST https://api.openai.com/v1/chat/completions \"HTTP/1.1 200 OK\"\n",
      "INFO:langgraph:{'generate_structured_response': {'structured_response': WeatherResponse(conditions='Currently, the weather in San Francisco is sunny with a gentle breeze. The temperature is comfortable, making it a perfect day for a stroll or outdoor activities.\\n\\nHere are the current weather conditions:\\n- **Temperature:** Around 65°F (18°C)\\n- **Humidity:** Moderate\\n- **Wind Speed:** 5-10 mph\\n- **Visibility:** Clear skies\\n\\nEnjoy your day in the beautiful city by the bay!')}}\n"
     ]
    }
   ],
   "source": [
    "# If you want to see the updates of the Agent at every stage we need to\n",
    "# stream the updates between the LLM's and tools as done below\n",
    "for chunk in agent_with_recursion_limit.stream(\n",
    "    {\"messages\": [{\"role\": \"user\", \"content\": \"what is the weather in sf\"}]},\n",
    "    stream_mode=\"updates\",\n",
    "):\n",
    "    logger.info(chunk)"
   ]
  },
  {
   "cell_type": "markdown",
   "metadata": {},
   "source": []
  },
  {
   "cell_type": "markdown",
   "metadata": {},
   "source": []
  }
 ],
 "metadata": {
  "kernelspec": {
   "display_name": ".venv",
   "language": "python",
   "name": "python3"
  },
  "language_info": {
   "codemirror_mode": {
    "name": "ipython",
    "version": 3
   },
   "file_extension": ".py",
   "mimetype": "text/x-python",
   "name": "python",
   "nbconvert_exporter": "python",
   "pygments_lexer": "ipython3",
   "version": "3.12.7"
  }
 },
 "nbformat": 4,
 "nbformat_minor": 2
}
