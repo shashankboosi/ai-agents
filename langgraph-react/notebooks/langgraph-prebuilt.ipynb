{
 "cells": [
  {
   "cell_type": "markdown",
   "metadata": {},
   "source": [
    "# Langgraph Prebuilt\n",
    "\n",
    "This noteboook contains the code to run langgraph agent with prebuilt architectures, we look into the React Agents\n"
   ]
  },
  {
   "cell_type": "code",
   "execution_count": 2,
   "metadata": {},
   "outputs": [],
   "source": [
    "%load_ext dotenv\n",
    "%dotenv"
   ]
  },
  {
   "cell_type": "code",
   "execution_count": null,
   "metadata": {},
   "outputs": [
    {
     "data": {
      "text/plain": [
       "WeatherResponse(conditions=\"San Francisco weather is known for its variability throughout the year. Here's a general idea of what you can expect:\\n\\n### Current Weather\\n- **Temperature:** Cool to mild\\n- **Wind:** Breezy, especially near the coast\\n- **Humidity:** Moderate\\n\\n### Typical Forecast:\\n- **Morning:** Often starts with coastal fog and overcast skies.\\n- **Afternoon:** Sunny spells after the fog dissipates, with temperatures typically ranging between 58°F to 67°F.\\n- **Evening:** Chilly as the fog rolls back in, wind increases, temperatures drop.\\n\\n### Notable Features:\\n- **Microclimates:** Vary significantly, with cooler temperatures and fog commonly seen in western parts, while eastern areas may experience warmer conditions.\\n- **Breezes from the Pacific Ocean** keep the temperatures relatively mild.\\n\\n### Tips for Visitors:\\n- **Dress in Layers:** Be prepared for a range of conditions.\\n- **Don't Forget:** A light jacket or sweater, even in summer!\\n\\nFor today's specific forecast, please check your local weather service for real-time updates, as conditions can change quickly.\")"
      ]
     },
     "execution_count": 3,
     "metadata": {},
     "output_type": "execute_result"
    }
   ],
   "source": [
    "from langgraph.prebuilt import create_react_agent\n",
    "from pydantic import BaseModel\n",
    "\n",
    "\n",
    "class WeatherResponse(BaseModel):\n",
    "    \"\"\"The response from the weather agent.\"\"\"\n",
    "\n",
    "    conditions: str\n",
    "\n",
    "\n",
    "def get_weather(city: str) -> str:\n",
    "    \"\"\"Get weather for a given city.\"\"\"\n",
    "    return f\"It's always sunny in {city}!\"\n",
    "\n",
    "\n",
    "# Create the agent using the reasoning action agent design\n",
    "agent = create_react_agent(\n",
    "    model=\"openai:gpt-4o\",\n",
    "    tools=[get_weather],\n",
    "    response_format=WeatherResponse,\n",
    "    prompt=\"You are a helpful assistant\",\n",
    ")\n",
    "\n",
    "# Run the agent\n",
    "response = agent.invoke(\n",
    "    {\"messages\": [{\"role\": \"user\", \"content\": \"what is the weather in sf\"}]}\n",
    ")\n",
    "response[\"structured_response\"]"
   ]
  },
  {
   "cell_type": "markdown",
   "metadata": {},
   "source": []
  },
  {
   "cell_type": "markdown",
   "metadata": {},
   "source": []
  }
 ],
 "metadata": {
  "kernelspec": {
   "display_name": ".venv",
   "language": "python",
   "name": "python3"
  },
  "language_info": {
   "codemirror_mode": {
    "name": "ipython",
    "version": 3
   },
   "file_extension": ".py",
   "mimetype": "text/x-python",
   "name": "python",
   "nbconvert_exporter": "python",
   "pygments_lexer": "ipython3",
   "version": "3.12.4"
  }
 },
 "nbformat": 4,
 "nbformat_minor": 2
}
